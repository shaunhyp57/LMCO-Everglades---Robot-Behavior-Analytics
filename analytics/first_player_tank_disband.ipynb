{
  "nbformat": 4,
  "nbformat_minor": 0,
  "metadata": {
    "colab": {
      "name": "first_player_tank_disband.ipynb",
      "provenance": [],
      "collapsed_sections": [],
      "authorship_tag": "ABX9TyPyVEiNi+DVw5i1YBdTfONj"
    },
    "kernelspec": {
      "name": "python3",
      "display_name": "Python 3"
    },
    "accelerator": "GPU"
  },
  "cells": [
    {
      "cell_type": "code",
      "metadata": {
        "colab_type": "code",
        "id": "N18AwC7p8BGp",
        "colab": {}
      },
      "source": [
        "# import Logistic Regression, KNN, Random forest, and SVM\n",
        "from sklearn.linear_model import LogisticRegression\n",
        "from sklearn.neighbors import KNeighborsClassifier\n",
        "from sklearn.ensemble import RandomForestClassifier\n",
        "from sklearn.svm import SVC\n",
        "\n",
        "# import xgboost (trying another classifier)\n",
        "import xgboost as xgb\n",
        "\n",
        "# Data Manipulation\n",
        "import pandas as pd\n",
        "import numpy as np\n",
        "%matplotlib inline\n",
        "\n",
        "from sklearn.model_selection import cross_val_score\n",
        "from sklearn import metrics"
      ],
      "execution_count": 0,
      "outputs": []
    },
    {
      "cell_type": "code",
      "metadata": {
        "id": "Br1tOX4mrPGO",
        "colab_type": "code",
        "outputId": "1e9cc705-c138-4d5a-f718-a320b279787e",
        "colab": {
          "base_uri": "https://localhost:8080/",
          "height": 204
        }
      },
      "source": [
        "url = 'https://raw.githubusercontent.com/shaunhyp57/LMCO-Everglades-Robot-Behavior-Analytics/master/analytics/data/first_tank_disband.csv?token=AIPEXHCRNII6OJVBSCDCRMS6N6724'\n",
        "cols = ['Game_ID','Player_0','Player_1','Player_1st_Tank_Disband','Turn_Count','Win_State']\n",
        "data = pd.read_csv(url, names=cols, header=None)\n",
        "\n",
        "del data['Game_ID']\n",
        "\n",
        "players={'Player_0':0, 'Player_1':1}\n",
        "\n",
        "def returncolname(row, colnames):\n",
        "  return colnames[np.argmax(row.values)]\n",
        "\n",
        "data['Winner'] = data.apply(lambda x: players.get(returncolname(x, data.columns),1), axis=1)\n",
        "\n",
        "data.head()"
      ],
      "execution_count": 117,
      "outputs": [
        {
          "output_type": "execute_result",
          "data": {
            "text/html": [
              "<div>\n",
              "<style scoped>\n",
              "    .dataframe tbody tr th:only-of-type {\n",
              "        vertical-align: middle;\n",
              "    }\n",
              "\n",
              "    .dataframe tbody tr th {\n",
              "        vertical-align: top;\n",
              "    }\n",
              "\n",
              "    .dataframe thead th {\n",
              "        text-align: right;\n",
              "    }\n",
              "</style>\n",
              "<table border=\"1\" class=\"dataframe\">\n",
              "  <thead>\n",
              "    <tr style=\"text-align: right;\">\n",
              "      <th></th>\n",
              "      <th>Player_0</th>\n",
              "      <th>Player_1</th>\n",
              "      <th>Player_1st_Tank_Disband</th>\n",
              "      <th>Turn_Count</th>\n",
              "      <th>Win_State</th>\n",
              "      <th>Winner</th>\n",
              "    </tr>\n",
              "  </thead>\n",
              "  <tbody>\n",
              "    <tr>\n",
              "      <th>0</th>\n",
              "      <td>917</td>\n",
              "      <td>1088</td>\n",
              "      <td>1</td>\n",
              "      <td>150</td>\n",
              "      <td>1</td>\n",
              "      <td>1</td>\n",
              "    </tr>\n",
              "    <tr>\n",
              "      <th>1</th>\n",
              "      <td>1540</td>\n",
              "      <td>1749</td>\n",
              "      <td>1</td>\n",
              "      <td>150</td>\n",
              "      <td>1</td>\n",
              "      <td>1</td>\n",
              "    </tr>\n",
              "    <tr>\n",
              "      <th>2</th>\n",
              "      <td>1371</td>\n",
              "      <td>808</td>\n",
              "      <td>1</td>\n",
              "      <td>150</td>\n",
              "      <td>1</td>\n",
              "      <td>0</td>\n",
              "    </tr>\n",
              "    <tr>\n",
              "      <th>3</th>\n",
              "      <td>853</td>\n",
              "      <td>631</td>\n",
              "      <td>1</td>\n",
              "      <td>150</td>\n",
              "      <td>1</td>\n",
              "      <td>0</td>\n",
              "    </tr>\n",
              "    <tr>\n",
              "      <th>4</th>\n",
              "      <td>1279</td>\n",
              "      <td>1085</td>\n",
              "      <td>1</td>\n",
              "      <td>150</td>\n",
              "      <td>1</td>\n",
              "      <td>0</td>\n",
              "    </tr>\n",
              "  </tbody>\n",
              "</table>\n",
              "</div>"
            ],
            "text/plain": [
              "   Player_0  Player_1  Player_1st_Tank_Disband  Turn_Count  Win_State  Winner\n",
              "0       917      1088                        1         150          1       1\n",
              "1      1540      1749                        1         150          1       1\n",
              "2      1371       808                        1         150          1       0\n",
              "3       853       631                        1         150          1       0\n",
              "4      1279      1085                        1         150          1       0"
            ]
          },
          "metadata": {
            "tags": []
          },
          "execution_count": 117
        }
      ]
    },
    {
      "cell_type": "code",
      "metadata": {
        "id": "dT58t63rgzTJ",
        "colab_type": "code",
        "colab": {
          "base_uri": "https://localhost:8080/",
          "height": 85
        },
        "outputId": "454fb3cf-a06a-4c7b-863d-c7615a9fa13d"
      },
      "source": [
        "# Total number of matches\n",
        "n_matches = data.shape[0]\n",
        "\n",
        "# Calculate number of features. '-1' because one is saved as target\n",
        "n_features = data.shape[1] - 1\n",
        "\n",
        "# Calculate matches won by Player 0\n",
        "n_player0wins = len(data[data.Winner == 0])\n",
        "\n",
        "# Calculate win rate for Player 0\n",
        "win_rate = (float(n_player0wins) / (n_matches)) * 100\n",
        "\n",
        "# Print the results\n",
        "print(\"Total number of matches: {}\".format(n_matches))\n",
        "print(\"Number of features: {}\".format(n_features))\n",
        "print(\"Number of matches won by Player 0: {}\".format(n_player0wins))\n",
        "print(\"Win rate of home team: {:.2f}%\".format(win_rate))\n",
        "\n",
        "#data.tail(30)"
      ],
      "execution_count": 118,
      "outputs": [
        {
          "output_type": "stream",
          "text": [
            "Total number of matches: 5823\n",
            "Number of features: 5\n",
            "Number of matches won by Player 0: 2900\n",
            "Win rate of home team: 49.80%\n"
          ],
          "name": "stdout"
        }
      ]
    },
    {
      "cell_type": "code",
      "metadata": {
        "id": "EpqtSPxz2NsY",
        "colab_type": "code",
        "colab": {}
      },
      "source": [
        "#from pandas.plotting import scatter_matrix\n",
        "\n",
        "#scatter_matrix(data[['Player_1st_Tank_Disband','Player_0','Player_1']], figsize=(10,10));"
      ],
      "execution_count": 0,
      "outputs": []
    },
    {
      "cell_type": "code",
      "metadata": {
        "id": "UlPqXWAwy2XP",
        "colab_type": "code",
        "colab": {}
      },
      "source": [
        "#feature_cols = ['Player_1st_Tank_Disband', 'Player_0', 'Player_1']\n",
        "#X = data[feature_cols]\n",
        "\n",
        "#action = np.zeros((7,2))\n",
        "#a = np.array([0,1])\n",
        "#action = np.tile(a, (7, 1))\n",
        "#action = [[[0,1]] for i in range(7)]\n",
        "#action.shape"
      ],
      "execution_count": 0,
      "outputs": []
    },
    {
      "cell_type": "code",
      "metadata": {
        "id": "5EgIyYDJKDMM",
        "colab_type": "code",
        "colab": {
          "base_uri": "https://localhost:8080/",
          "height": 204
        },
        "outputId": "4943c704-706e-4224-ce84-a882de6e96a9"
      },
      "source": [
        "feature_cols = ['Player_1st_Tank_Disband', 'Player_0', 'Player_1']\n",
        "X = data[feature_cols]\n",
        "y = data['Winner']\n",
        "\n",
        "# Standardising the data.\n",
        "from sklearn.preprocessing import scale\n",
        "\n",
        "#Center to the mean and component wise scale to unit variance.\n",
        "#cols = [['Player_0','Player_1']]\n",
        "#for col in cols:\n",
        "#X = scale(X)\n",
        "X = pd.DataFrame(scale(X), columns=feature_cols, index=data.index)\n",
        "\n",
        "X.head()"
      ],
      "execution_count": 119,
      "outputs": [
        {
          "output_type": "execute_result",
          "data": {
            "text/html": [
              "<div>\n",
              "<style scoped>\n",
              "    .dataframe tbody tr th:only-of-type {\n",
              "        vertical-align: middle;\n",
              "    }\n",
              "\n",
              "    .dataframe tbody tr th {\n",
              "        vertical-align: top;\n",
              "    }\n",
              "\n",
              "    .dataframe thead th {\n",
              "        text-align: right;\n",
              "    }\n",
              "</style>\n",
              "<table border=\"1\" class=\"dataframe\">\n",
              "  <thead>\n",
              "    <tr style=\"text-align: right;\">\n",
              "      <th></th>\n",
              "      <th>Player_1st_Tank_Disband</th>\n",
              "      <th>Player_0</th>\n",
              "      <th>Player_1</th>\n",
              "    </tr>\n",
              "  </thead>\n",
              "  <tbody>\n",
              "    <tr>\n",
              "      <th>0</th>\n",
              "      <td>1.002235</td>\n",
              "      <td>-0.678536</td>\n",
              "      <td>-0.334157</td>\n",
              "    </tr>\n",
              "    <tr>\n",
              "      <th>1</th>\n",
              "      <td>1.002235</td>\n",
              "      <td>0.577474</td>\n",
              "      <td>0.982629</td>\n",
              "    </tr>\n",
              "    <tr>\n",
              "      <th>2</th>\n",
              "      <td>1.002235</td>\n",
              "      <td>0.236759</td>\n",
              "      <td>-0.891948</td>\n",
              "    </tr>\n",
              "    <tr>\n",
              "      <th>3</th>\n",
              "      <td>1.002235</td>\n",
              "      <td>-0.807565</td>\n",
              "      <td>-1.244551</td>\n",
              "    </tr>\n",
              "    <tr>\n",
              "      <th>4</th>\n",
              "      <td>1.002235</td>\n",
              "      <td>0.051280</td>\n",
              "      <td>-0.340133</td>\n",
              "    </tr>\n",
              "  </tbody>\n",
              "</table>\n",
              "</div>"
            ],
            "text/plain": [
              "   Player_1st_Tank_Disband  Player_0  Player_1\n",
              "0                 1.002235 -0.678536 -0.334157\n",
              "1                 1.002235  0.577474  0.982629\n",
              "2                 1.002235  0.236759 -0.891948\n",
              "3                 1.002235 -0.807565 -1.244551\n",
              "4                 1.002235  0.051280 -0.340133"
            ]
          },
          "metadata": {
            "tags": []
          },
          "execution_count": 119
        }
      ]
    },
    {
      "cell_type": "code",
      "metadata": {
        "id": "ogxk6RWGdyQ0",
        "colab_type": "code",
        "colab": {}
      },
      "source": [
        "from sklearn.model_selection import train_test_split\n",
        "\n",
        "X_train, X_test, y_train, y_test = train_test_split(X, y, test_size = 0.2, random_state=4, stratify = y)\n",
        "\n",
        "#svc_model = SVC(kernel='linear')\n",
        "#svc_model.fit(X_train, y_train)\n",
        "#y_pred = svc_model.predict(X_test)\n",
        "#print(metrics.accuracy_score(y_test, y_pred))"
      ],
      "execution_count": 0,
      "outputs": []
    },
    {
      "cell_type": "code",
      "metadata": {
        "id": "hw6CqdumLdfG",
        "colab_type": "code",
        "colab": {}
      },
      "source": [
        "#for measuring training time\n",
        "from time import time \n",
        "#for measuring accuracy. Considers both precision and recall to compute score\n",
        "from sklearn.metrics import f1_score\n",
        "\n",
        "def train_classifier(clf, X_train, y_train):\n",
        "    ''' Fits a classifier to the training data. '''\n",
        "    \n",
        "    # Start the clock, train the classifier, then stop the clock\n",
        "    start = time()\n",
        "    clf.fit(X_train, y_train)\n",
        "    end = time()\n",
        "    \n",
        "    # Print the results\n",
        "    print(\"Trained model in {:.4f} seconds\".format(end - start))\n",
        "\n",
        "    \n",
        "def predict_labels(clf, features, target):\n",
        "    ''' Makes predictions using a fit classifier based on F1 score. '''\n",
        "    \n",
        "    # Start the clock, make predictions, then stop the clock\n",
        "    start = time()\n",
        "    y_pred = clf.predict(features)\n",
        "    \n",
        "    end = time()\n",
        "    # Print and return results\n",
        "    print(\"Made predictions in {:.4f} seconds.\".format(end - start))\n",
        "    \n",
        "    return f1_score(target, y_pred, pos_label=0), sum(target == y_pred) / float(len(y_pred))\n",
        "\n",
        "\n",
        "def train_predict(clf, X_train, y_train, X_test, y_test):\n",
        "    ''' Train and predict using a classifer based on F1 score. '''\n",
        "    \n",
        "    # Indicate the classifier and the training set size\n",
        "    print(\"Training a {} using a training set size of {}. . .\".format(clf.__class__.__name__, len(X_train)))\n",
        "    \n",
        "    # Train the classifier\n",
        "    train_classifier(clf, X_train, y_train)\n",
        "    \n",
        "    # Print the results of prediction for both training and testing\n",
        "    f1, acc = predict_labels(clf, X_train, y_train)\n",
        "    print(f1, acc)\n",
        "    print(\"F1 score and accuracy score for training set: {:.4f} , {:.4f}.\".format(f1 , acc))\n",
        "    \n",
        "    f1, acc = predict_labels(clf, X_test, y_test)\n",
        "    print(\"F1 score and accuracy score for test set: {:.4f} , {:.4f}.\".format(f1 , acc))"
      ],
      "execution_count": 0,
      "outputs": []
    },
    {
      "cell_type": "code",
      "metadata": {
        "id": "eTf2qpgdMnMT",
        "colab_type": "code",
        "colab": {
          "base_uri": "https://localhost:8080/",
          "height": 697
        },
        "outputId": "dc24e386-b72d-4d28-b40c-d32737b1a157"
      },
      "source": [
        "# Initialize the three models (XGBoost is initialized later)\n",
        "clf_A = LogisticRegression(random_state = 42)\n",
        "clf_B = KNeighborsClassifier(n_neighbors=10)\n",
        "clf_C = RandomForestClassifier (max_depth = 2, random_state=0)\n",
        "clf_D = SVC(random_state = 912, kernel='rbf')\n",
        "#Boosting refers to this general problem of producing a very accurate prediction rule \n",
        "#by combining rough and moderately inaccurate rules-of-thumb\n",
        "clf_E = xgb.XGBClassifier(seed = 82)\n",
        "\n",
        "train_predict(clf_A, X_train, y_train, X_test, y_test)\n",
        "print('')\n",
        "train_predict(clf_B, X_train, y_train, X_test, y_test)\n",
        "print('')\n",
        "train_predict(clf_C, X_train, y_train, X_test, y_test)\n",
        "print('')\n",
        "train_predict(clf_D, X_train, y_train, X_test, y_test)\n",
        "print('')\n",
        "train_predict(clf_E, X_train, y_train, X_test, y_test)\n",
        "print('')"
      ],
      "execution_count": 122,
      "outputs": [
        {
          "output_type": "stream",
          "text": [
            "Training a LogisticRegression using a training set size of 4658. . .\n",
            "Trained model in 0.0232 seconds\n",
            "Made predictions in 0.0016 seconds.\n",
            "0.9993530299762777 0.9993559467582653\n",
            "F1 score and accuracy score for training set: 0.9994 , 0.9994.\n",
            "Made predictions in 0.0015 seconds.\n",
            "F1 score and accuracy score for test set: 1.0000 , 1.0000.\n",
            "\n",
            "Training a KNeighborsClassifier using a training set size of 4658. . .\n",
            "Trained model in 0.0063 seconds\n",
            "Made predictions in 0.2230 seconds.\n",
            "0.9948409286328461 0.9948475740661228\n",
            "F1 score and accuracy score for training set: 0.9948 , 0.9948.\n",
            "Made predictions in 0.0557 seconds.\n",
            "F1 score and accuracy score for test set: 0.9966 , 0.9966.\n",
            "\n",
            "Training a RandomForestClassifier using a training set size of 4658. . .\n",
            "Trained model in 0.2538 seconds\n",
            "Made predictions in 0.0370 seconds.\n",
            "0.938950988822012 0.9390296264491198\n",
            "F1 score and accuracy score for training set: 0.9390 , 0.9390.\n",
            "Made predictions in 0.0191 seconds.\n",
            "F1 score and accuracy score for test set: 0.9338 , 0.9339.\n",
            "\n",
            "Training a SVC using a training set size of 4658. . .\n",
            "Trained model in 0.0827 seconds\n",
            "Made predictions in 0.0690 seconds.\n",
            "0.9961156668105309 0.9961356805495921\n",
            "F1 score and accuracy score for training set: 0.9961 , 0.9961.\n",
            "Made predictions in 0.0149 seconds.\n",
            "F1 score and accuracy score for test set: 0.9974 , 0.9974.\n",
            "\n",
            "Training a XGBClassifier using a training set size of 4658. . .\n",
            "Trained model in 0.1405 seconds\n",
            "Made predictions in 0.0149 seconds.\n",
            "0.998706338939198 0.9987118935165307\n",
            "F1 score and accuracy score for training set: 0.9987 , 0.9987.\n",
            "Made predictions in 0.0043 seconds.\n",
            "F1 score and accuracy score for test set: 0.9914 , 0.9914.\n",
            "\n"
          ],
          "name": "stdout"
        }
      ]
    },
    {
      "cell_type": "code",
      "metadata": {
        "id": "y0RXWO7JBTWK",
        "colab_type": "code",
        "colab": {}
      },
      "source": [
        "#svc_model = SVC(kernel='linear')\n",
        "#scores = cross_val_score(svc_model, X, y, cv=10, scoring='accuracy')\n",
        "#print(scores)"
      ],
      "execution_count": 0,
      "outputs": []
    },
    {
      "cell_type": "code",
      "metadata": {
        "id": "fb6BpyktYuRD",
        "colab_type": "code",
        "colab": {
          "base_uri": "https://localhost:8080/",
          "height": 204
        },
        "outputId": "178f1a6f-8d79-4407-a38c-49c343de62c2"
      },
      "source": [
        "# Import 'GridSearchCV' and 'make_scorer'\n",
        "from sklearn.model_selection import GridSearchCV\n",
        "from sklearn.metrics import make_scorer\n",
        "\n",
        "# Create the parameters list you wish to tune\n",
        "#parameters = { 'learning_rate' : [0.1],\n",
        "#               'n_estimators' : [40],\n",
        "#               'max_depth': [3],\n",
        "#               'min_child_weight': [3],\n",
        "#               'gamma':[0.4],\n",
        "#               'subsample' : [0.8],\n",
        "#               'colsample_bytree' : [0.8],\n",
        "#               'scale_pos_weight' : [1],\n",
        "#               'reg_alpha':[1e-5]\n",
        "#             } \n",
        "params = {\n",
        "        'min_child_weight': [1, 5, 10],\n",
        "        'gamma': [0.5, 1, 1.5, 2, 5],\n",
        "        'subsample': [0.6, 0.8, 1.0],\n",
        "        'colsample_bytree': [0.6, 0.8, 1.0],\n",
        "        'max_depth': [3, 4, 5]\n",
        "        } \n",
        "\n",
        "# Initialize the classifier\n",
        "clf = xgb.XGBClassifier(seed=2)\n",
        "\n",
        "# Make an f1 scoring function using 'make_scorer' \n",
        "f1_scorer = make_scorer(f1_score,pos_label=0)\n",
        "\n",
        "# Perform grid search on the classifier using the f1_scorer as the scoring method\n",
        "grid_obj = GridSearchCV(clf,\n",
        "                        scoring=f1_scorer,\n",
        "                        param_grid=parameters,\n",
        "                        cv=5)\n",
        "\n",
        "# Fit the grid search object to the training data and find the optimal parameters\n",
        "grid_obj = grid_obj.fit(X_train,y_train)\n",
        "\n",
        "# Get the estimator\n",
        "clf = grid_obj.best_estimator_\n",
        "print(clf)\n",
        "\n",
        "# Report the final F1 score for training and testing after parameter tuning\n",
        "f1, acc = predict_labels(clf, X_train, y_train)\n",
        "print(\"F1 score and accuracy score for training set: {:.4f} , {:.4f}.\".format(f1 , acc))\n",
        "    \n",
        "f1, acc = predict_labels(clf, X_test, y_test)\n",
        "print(\"F1 score and accuracy score for test set: {:.4f} , {:.4f}.\".format(f1 , acc))"
      ],
      "execution_count": 115,
      "outputs": [
        {
          "output_type": "stream",
          "text": [
            "XGBClassifier(base_score=0.5, booster='gbtree', colsample_bylevel=1,\n",
            "              colsample_bynode=1, colsample_bytree=0.8, gamma=0.4,\n",
            "              learning_rate=0.1, max_delta_step=0, max_depth=3,\n",
            "              min_child_weight=3, missing=None, n_estimators=40, n_jobs=1,\n",
            "              nthread=None, objective='binary:logistic', random_state=0,\n",
            "              reg_alpha=1e-05, reg_lambda=1, scale_pos_weight=1, seed=2,\n",
            "              silent=None, subsample=0.8, verbosity=1)\n",
            "Made predictions in 0.0063 seconds.\n",
            "F1 score and accuracy score for training set: 0.9879 , 0.9880.\n",
            "Made predictions in 0.0022 seconds.\n",
            "F1 score and accuracy score for test set: 0.9801 , 0.9803.\n"
          ],
          "name": "stdout"
        }
      ]
    }
  ]
}