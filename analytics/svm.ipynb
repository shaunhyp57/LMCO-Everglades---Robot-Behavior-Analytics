{
  "nbformat": 4,
  "nbformat_minor": 0,
  "metadata": {
    "colab": {
      "name": "SVM.ipynb",
      "provenance": [],
      "collapsed_sections": [],
      "authorship_tag": "ABX9TyPkoYLg9CISgy3d8KAiwsLJ",
      "include_colab_link": true
    },
    "kernelspec": {
      "name": "python3",
      "display_name": "Python 3"
    }
  },
  "cells": [
    {
      "cell_type": "markdown",
      "metadata": {
        "id": "view-in-github",
        "colab_type": "text"
      },
      "source": [
        "<a href=\"https://colab.research.google.com/github/shaunhyp57/LMCO-Everglades-Robot-Behavior-Analytics/blob/master/analytics/svm.ipynb\" target=\"_parent\"><img src=\"https://colab.research.google.com/assets/colab-badge.svg\" alt=\"Open In Colab\"/></a>"
      ]
    },
    {
      "cell_type": "code",
      "metadata": {
        "colab_type": "code",
        "id": "N18AwC7p8BGp",
        "colab": {}
      },
      "source": [
        "# Support Vector Classifier import\n",
        "from sklearn.svm import SVC\n",
        "\n",
        "# Data Manipulation\n",
        "import pandas as pd\n",
        "import numpy as np\n",
        "\n",
        "from sklearn.model_selection import train_test_split\n",
        "from sklearn.model_selection import cross_val_score\n",
        "from sklearn import metrics"
      ],
      "execution_count": 0,
      "outputs": []
    },
    {
      "cell_type": "code",
      "metadata": {
        "id": "Br1tOX4mrPGO",
        "colab_type": "code",
        "outputId": "e8d9de73-04db-465f-c950-83aa1e2b8854",
        "colab": {
          "base_uri": "https://localhost:8080/",
          "height": 204
        }
      },
      "source": [
        "url = 'https://raw.githubusercontent.com/shaunhyp57/LMCO-Everglades---Robot-Behavior-Analytics/master/DataSet/first_tank_disband.csv?token=AIPEXHARAF3OFPVRSNW5N6C6I5N3W'\n",
        "cols = ['Game_ID','Player_0','Player_1','Player_1st_Tank_Disband','Turn_Count','Win_State']\n",
        "data = pd.read_csv(url, names=cols,header=None)\n",
        "\n",
        "players={'Player_0':0, 'Player_1':1}\n",
        "\n",
        "def returncolname(row, colnames):\n",
        "    return colnames[np.argmax(row.values)]\n",
        "\n",
        "data['Winner'] = data.apply(lambda x: players.get(returncolname(x, data.columns),2), axis=1)\n",
        "\n",
        "#data['Winner'] = data.apply(lambda x: data.columns[x.argmax()], axis = 1)\n",
        "data.head()"
      ],
      "execution_count": 0,
      "outputs": [
        {
          "output_type": "execute_result",
          "data": {
            "text/html": [
              "<div>\n",
              "<style scoped>\n",
              "    .dataframe tbody tr th:only-of-type {\n",
              "        vertical-align: middle;\n",
              "    }\n",
              "\n",
              "    .dataframe tbody tr th {\n",
              "        vertical-align: top;\n",
              "    }\n",
              "\n",
              "    .dataframe thead th {\n",
              "        text-align: right;\n",
              "    }\n",
              "</style>\n",
              "<table border=\"1\" class=\"dataframe\">\n",
              "  <thead>\n",
              "    <tr style=\"text-align: right;\">\n",
              "      <th></th>\n",
              "      <th>Game_ID</th>\n",
              "      <th>Player_0</th>\n",
              "      <th>Player_1</th>\n",
              "      <th>Player_1st_Tank_Disband</th>\n",
              "      <th>Turn_Count</th>\n",
              "      <th>Win_State</th>\n",
              "      <th>Winner</th>\n",
              "    </tr>\n",
              "  </thead>\n",
              "  <tbody>\n",
              "    <tr>\n",
              "      <th>0</th>\n",
              "      <td>1</td>\n",
              "      <td>917</td>\n",
              "      <td>1088</td>\n",
              "      <td>1</td>\n",
              "      <td>150</td>\n",
              "      <td>1</td>\n",
              "      <td>1</td>\n",
              "    </tr>\n",
              "    <tr>\n",
              "      <th>1</th>\n",
              "      <td>2</td>\n",
              "      <td>1540</td>\n",
              "      <td>1749</td>\n",
              "      <td>1</td>\n",
              "      <td>150</td>\n",
              "      <td>1</td>\n",
              "      <td>1</td>\n",
              "    </tr>\n",
              "    <tr>\n",
              "      <th>2</th>\n",
              "      <td>3</td>\n",
              "      <td>1371</td>\n",
              "      <td>808</td>\n",
              "      <td>1</td>\n",
              "      <td>150</td>\n",
              "      <td>1</td>\n",
              "      <td>0</td>\n",
              "    </tr>\n",
              "    <tr>\n",
              "      <th>3</th>\n",
              "      <td>4</td>\n",
              "      <td>853</td>\n",
              "      <td>631</td>\n",
              "      <td>1</td>\n",
              "      <td>150</td>\n",
              "      <td>1</td>\n",
              "      <td>0</td>\n",
              "    </tr>\n",
              "    <tr>\n",
              "      <th>4</th>\n",
              "      <td>5</td>\n",
              "      <td>1279</td>\n",
              "      <td>1085</td>\n",
              "      <td>1</td>\n",
              "      <td>150</td>\n",
              "      <td>1</td>\n",
              "      <td>0</td>\n",
              "    </tr>\n",
              "  </tbody>\n",
              "</table>\n",
              "</div>"
            ],
            "text/plain": [
              "   Game_ID  Player_0  Player_1  ...  Turn_Count  Win_State  Winner\n",
              "0        1       917      1088  ...         150          1       1\n",
              "1        2      1540      1749  ...         150          1       1\n",
              "2        3      1371       808  ...         150          1       0\n",
              "3        4       853       631  ...         150          1       0\n",
              "4        5      1279      1085  ...         150          1       0\n",
              "\n",
              "[5 rows x 7 columns]"
            ]
          },
          "metadata": {
            "tags": []
          },
          "execution_count": 3
        }
      ]
    },
    {
      "cell_type": "code",
      "metadata": {
        "id": "UlPqXWAwy2XP",
        "colab_type": "code",
        "outputId": "67ce0a59-e7b4-4dc3-e3b6-ece3e5907a02",
        "colab": {
          "base_uri": "https://localhost:8080/",
          "height": 34
        }
      },
      "source": [
        "feature_cols = ['Player_1st_Tank_Disband']\n",
        "X = data[feature_cols]\n",
        "\n",
        "action = np.zeros((7,2))\n",
        "a = np.array([0,1])\n",
        "action = np.tile(a, (7, 1))\n",
        "#action = [[[0,1]] for i in range(7)]\n",
        "action.shape"
      ],
      "execution_count": 0,
      "outputs": [
        {
          "output_type": "execute_result",
          "data": {
            "text/plain": [
              "(7, 2)"
            ]
          },
          "metadata": {
            "tags": []
          },
          "execution_count": 18
        }
      ]
    },
    {
      "cell_type": "code",
      "metadata": {
        "id": "cVEQ2jiLT23l",
        "colab_type": "code",
        "outputId": "08277259-7479-441c-b6ef-7b990e3f4353",
        "colab": {
          "base_uri": "https://localhost:8080/",
          "height": 34
        }
      },
      "source": [
        "y = data['Winner']\n",
        "\n",
        "y.head()\n",
        "y.shape"
      ],
      "execution_count": 0,
      "outputs": [
        {
          "output_type": "execute_result",
          "data": {
            "text/plain": [
              "(5823,)"
            ]
          },
          "metadata": {
            "tags": []
          },
          "execution_count": 47
        }
      ]
    },
    {
      "cell_type": "code",
      "metadata": {
        "id": "ogxk6RWGdyQ0",
        "colab_type": "code",
        "outputId": "1aa0f903-001c-4600-fec3-044e06958ec3",
        "colab": {
          "base_uri": "https://localhost:8080/",
          "height": 34
        }
      },
      "source": [
        "X_train, X_test, y_train, y_test = train_test_split(X, y, random_state=4)\n",
        "\n",
        "svc_model = SVC(kernel='linear')\n",
        "svc_model.fit(X_train, y_train)\n",
        "y_pred = svc_model.predict(X_test)\n",
        "print(metrics.accuracy_score(y_test, y_pred))"
      ],
      "execution_count": 0,
      "outputs": [
        {
          "output_type": "stream",
          "text": [
            "0.771978021978022\n"
          ],
          "name": "stdout"
        }
      ]
    },
    {
      "cell_type": "code",
      "metadata": {
        "id": "y0RXWO7JBTWK",
        "colab_type": "code",
        "outputId": "0f425b60-5d04-40f1-e5c0-53c9211648d6",
        "colab": {
          "base_uri": "https://localhost:8080/",
          "height": 51
        }
      },
      "source": [
        "svc_model = SVC(kernel='linear')\n",
        "scores = cross_val_score(svc_model, X, y, cv=10, scoring='accuracy')\n",
        "print(scores)"
      ],
      "execution_count": 0,
      "outputs": [
        {
          "output_type": "stream",
          "text": [
            "[0.76500858 0.76500858 0.76500858 0.76460481 0.76632302 0.76632302\n",
            " 0.76632302 0.76632302 0.76632302 0.76632302]\n"
          ],
          "name": "stdout"
        }
      ]
    }
  ]
}