{
  "nbformat": 4,
  "nbformat_minor": 0,
  "metadata": {
    "colab": {
      "name": "firstUnitDisband_target2_randact.ipynb",
      "provenance": [],
      "collapsed_sections": [],
      "authorship_tag": "ABX9TyPL8TZr/q3GbWHPOcqDZsQz"
    },
    "kernelspec": {
      "name": "python3",
      "display_name": "Python 3"
    },
    "accelerator": "GPU"
  },
  "cells": [
    {
      "cell_type": "markdown",
      "metadata": {
        "id": "EFf9FEjyd9MG",
        "colab_type": "text"
      },
      "source": [
        "## **First Unit Disband:** Target Watch Tower (Node 2) vs Random Action\n",
        "\n",
        "#### Predict winner of game based the following features:\n",
        "* Player 0 score (target Node 2 \"Watch Tower\")\n",
        "* Player 1 score (Random Action)\n",
        "* Win Type\n",
        "* Turn Unit Loss Occurred\n",
        "* Unit Lost Type\n",
        "* First Player with Unit Disband\n",
        "\n",
        "####Classifiers used:\n",
        "* Logistic Regression\n",
        "* KNN\n",
        "* Random Forest\n",
        "* SVM\n",
        "* XG Boost"
      ]
    },
    {
      "cell_type": "code",
      "metadata": {
        "colab_type": "code",
        "id": "N18AwC7p8BGp",
        "colab": {}
      },
      "source": [
        "# import Logistic Regression, KNN, Random forest, and SVM\n",
        "from sklearn.linear_model import LogisticRegression\n",
        "from sklearn.neighbors import KNeighborsClassifier\n",
        "from sklearn.ensemble import RandomForestClassifier\n",
        "from sklearn.svm import SVC\n",
        "\n",
        "# import xgboost\n",
        "import xgboost as xgb\n",
        "\n",
        "# Data Manipulation\n",
        "import pandas as pd\n",
        "import numpy as np\n",
        "%matplotlib inline\n",
        "\n",
        "from sklearn.model_selection import cross_val_score\n",
        "from sklearn import metrics"
      ],
      "execution_count": 0,
      "outputs": []
    },
    {
      "cell_type": "code",
      "metadata": {
        "id": "61iNHAcpdqG5",
        "colab_type": "code",
        "outputId": "c3284eee-563a-43ea-aa20-6441e0a4ded1",
        "colab": {
          "base_uri": "https://localhost:8080/",
          "height": 204
        }
      },
      "source": [
        "url = 'https://raw.githubusercontent.com/shaunhyp57/LMCO-Everglades-Robot-Behavior-Analytics/master/analytics/ml_models/First%20Unit%20Disband/datasets/firstUnitLost_target2_randact.csv'\n",
        "data = pd.read_csv(url)\n",
        "\n",
        "data.head()"
      ],
      "execution_count": 87,
      "outputs": [
        {
          "output_type": "execute_result",
          "data": {
            "text/html": [
              "<div>\n",
              "<style scoped>\n",
              "    .dataframe tbody tr th:only-of-type {\n",
              "        vertical-align: middle;\n",
              "    }\n",
              "\n",
              "    .dataframe tbody tr th {\n",
              "        vertical-align: top;\n",
              "    }\n",
              "\n",
              "    .dataframe thead th {\n",
              "        text-align: right;\n",
              "    }\n",
              "</style>\n",
              "<table border=\"1\" class=\"dataframe\">\n",
              "  <thead>\n",
              "    <tr style=\"text-align: right;\">\n",
              "      <th></th>\n",
              "      <th>numberOfTurns</th>\n",
              "      <th>winType</th>\n",
              "      <th>player_0</th>\n",
              "      <th>player_1</th>\n",
              "      <th>unitLossTurn</th>\n",
              "      <th>unitLostPlayer</th>\n",
              "      <th>unitLostType</th>\n",
              "      <th>combinedStat</th>\n",
              "      <th>winner</th>\n",
              "    </tr>\n",
              "  </thead>\n",
              "  <tbody>\n",
              "    <tr>\n",
              "      <th>0</th>\n",
              "      <td>150.0</td>\n",
              "      <td>1</td>\n",
              "      <td>1239</td>\n",
              "      <td>1505</td>\n",
              "      <td>31.0</td>\n",
              "      <td>1</td>\n",
              "      <td>1</td>\n",
              "      <td>1</td>\n",
              "      <td>1</td>\n",
              "    </tr>\n",
              "    <tr>\n",
              "      <th>1</th>\n",
              "      <td>112.0</td>\n",
              "      <td>2</td>\n",
              "      <td>3412</td>\n",
              "      <td>511</td>\n",
              "      <td>30.0</td>\n",
              "      <td>1</td>\n",
              "      <td>3</td>\n",
              "      <td>3</td>\n",
              "      <td>0</td>\n",
              "    </tr>\n",
              "    <tr>\n",
              "      <th>2</th>\n",
              "      <td>150.0</td>\n",
              "      <td>1</td>\n",
              "      <td>1268</td>\n",
              "      <td>1833</td>\n",
              "      <td>33.0</td>\n",
              "      <td>1</td>\n",
              "      <td>1</td>\n",
              "      <td>1</td>\n",
              "      <td>1</td>\n",
              "    </tr>\n",
              "    <tr>\n",
              "      <th>3</th>\n",
              "      <td>150.0</td>\n",
              "      <td>1</td>\n",
              "      <td>1330</td>\n",
              "      <td>1138</td>\n",
              "      <td>18.0</td>\n",
              "      <td>1</td>\n",
              "      <td>1</td>\n",
              "      <td>1</td>\n",
              "      <td>0</td>\n",
              "    </tr>\n",
              "    <tr>\n",
              "      <th>4</th>\n",
              "      <td>150.0</td>\n",
              "      <td>1</td>\n",
              "      <td>1827</td>\n",
              "      <td>905</td>\n",
              "      <td>31.0</td>\n",
              "      <td>1</td>\n",
              "      <td>1</td>\n",
              "      <td>1</td>\n",
              "      <td>0</td>\n",
              "    </tr>\n",
              "  </tbody>\n",
              "</table>\n",
              "</div>"
            ],
            "text/plain": [
              "   numberOfTurns  winType  player_0  ...  unitLostType  combinedStat  winner\n",
              "0          150.0        1      1239  ...             1             1       1\n",
              "1          112.0        2      3412  ...             3             3       0\n",
              "2          150.0        1      1268  ...             1             1       1\n",
              "3          150.0        1      1330  ...             1             1       0\n",
              "4          150.0        1      1827  ...             1             1       0\n",
              "\n",
              "[5 rows x 9 columns]"
            ]
          },
          "metadata": {
            "tags": []
          },
          "execution_count": 87
        }
      ]
    },
    {
      "cell_type": "code",
      "metadata": {
        "id": "Br1tOX4mrPGO",
        "colab_type": "code",
        "outputId": "4513441d-f25f-4b03-f2a8-8fd3a02a42b3",
        "colab": {
          "base_uri": "https://localhost:8080/",
          "height": 204
        }
      },
      "source": [
        "del data['combinedStat']\n",
        "\n",
        "# Used to categorize the winner of the game based on the score of the player column\n",
        "players={'player_0':0, 'player_1':1}\n",
        "\n",
        "data.head()"
      ],
      "execution_count": 88,
      "outputs": [
        {
          "output_type": "execute_result",
          "data": {
            "text/html": [
              "<div>\n",
              "<style scoped>\n",
              "    .dataframe tbody tr th:only-of-type {\n",
              "        vertical-align: middle;\n",
              "    }\n",
              "\n",
              "    .dataframe tbody tr th {\n",
              "        vertical-align: top;\n",
              "    }\n",
              "\n",
              "    .dataframe thead th {\n",
              "        text-align: right;\n",
              "    }\n",
              "</style>\n",
              "<table border=\"1\" class=\"dataframe\">\n",
              "  <thead>\n",
              "    <tr style=\"text-align: right;\">\n",
              "      <th></th>\n",
              "      <th>numberOfTurns</th>\n",
              "      <th>winType</th>\n",
              "      <th>player_0</th>\n",
              "      <th>player_1</th>\n",
              "      <th>unitLossTurn</th>\n",
              "      <th>unitLostPlayer</th>\n",
              "      <th>unitLostType</th>\n",
              "      <th>winner</th>\n",
              "    </tr>\n",
              "  </thead>\n",
              "  <tbody>\n",
              "    <tr>\n",
              "      <th>0</th>\n",
              "      <td>150.0</td>\n",
              "      <td>1</td>\n",
              "      <td>1239</td>\n",
              "      <td>1505</td>\n",
              "      <td>31.0</td>\n",
              "      <td>1</td>\n",
              "      <td>1</td>\n",
              "      <td>1</td>\n",
              "    </tr>\n",
              "    <tr>\n",
              "      <th>1</th>\n",
              "      <td>112.0</td>\n",
              "      <td>2</td>\n",
              "      <td>3412</td>\n",
              "      <td>511</td>\n",
              "      <td>30.0</td>\n",
              "      <td>1</td>\n",
              "      <td>3</td>\n",
              "      <td>0</td>\n",
              "    </tr>\n",
              "    <tr>\n",
              "      <th>2</th>\n",
              "      <td>150.0</td>\n",
              "      <td>1</td>\n",
              "      <td>1268</td>\n",
              "      <td>1833</td>\n",
              "      <td>33.0</td>\n",
              "      <td>1</td>\n",
              "      <td>1</td>\n",
              "      <td>1</td>\n",
              "    </tr>\n",
              "    <tr>\n",
              "      <th>3</th>\n",
              "      <td>150.0</td>\n",
              "      <td>1</td>\n",
              "      <td>1330</td>\n",
              "      <td>1138</td>\n",
              "      <td>18.0</td>\n",
              "      <td>1</td>\n",
              "      <td>1</td>\n",
              "      <td>0</td>\n",
              "    </tr>\n",
              "    <tr>\n",
              "      <th>4</th>\n",
              "      <td>150.0</td>\n",
              "      <td>1</td>\n",
              "      <td>1827</td>\n",
              "      <td>905</td>\n",
              "      <td>31.0</td>\n",
              "      <td>1</td>\n",
              "      <td>1</td>\n",
              "      <td>0</td>\n",
              "    </tr>\n",
              "  </tbody>\n",
              "</table>\n",
              "</div>"
            ],
            "text/plain": [
              "   numberOfTurns  winType  player_0  ...  unitLostPlayer  unitLostType  winner\n",
              "0          150.0        1      1239  ...               1             1       1\n",
              "1          112.0        2      3412  ...               1             3       0\n",
              "2          150.0        1      1268  ...               1             1       1\n",
              "3          150.0        1      1330  ...               1             1       0\n",
              "4          150.0        1      1827  ...               1             1       0\n",
              "\n",
              "[5 rows x 8 columns]"
            ]
          },
          "metadata": {
            "tags": []
          },
          "execution_count": 88
        }
      ]
    },
    {
      "cell_type": "code",
      "metadata": {
        "id": "dT58t63rgzTJ",
        "colab_type": "code",
        "outputId": "46c6e109-9eac-4d41-a862-3bc40720f955",
        "colab": {
          "base_uri": "https://localhost:8080/",
          "height": 85
        }
      },
      "source": [
        "# Total number of matches\n",
        "n_matches = data.shape[0]\n",
        "\n",
        "# Calculate number of features. '-1' because one is saved as target\n",
        "n_features = data.shape[1] - 1\n",
        "\n",
        "# Calculate matches won by Player 0\n",
        "n_player0wins = len(data[data.winner == 0])\n",
        "\n",
        "# Calculate win rate for Player 0\n",
        "win_rate = (float(n_player0wins) / (n_matches)) * 100\n",
        "\n",
        "# Print the results\n",
        "print(\"Total number of matches: {}\".format(n_matches))\n",
        "print(\"Number of features: {}\".format(n_features))\n",
        "print(\"Number of matches won by Player 0: {}\".format(n_player0wins))\n",
        "print(\"Win rate of Player 0: {:.2f}%\".format(win_rate))"
      ],
      "execution_count": 89,
      "outputs": [
        {
          "output_type": "stream",
          "text": [
            "Total number of matches: 983\n",
            "Number of features: 7\n",
            "Number of matches won by Player 0: 354\n",
            "Win rate of Player 0: 36.01%\n"
          ],
          "name": "stdout"
        }
      ]
    },
    {
      "cell_type": "code",
      "metadata": {
        "id": "5EgIyYDJKDMM",
        "colab_type": "code",
        "outputId": "168757b9-14cd-4fc0-b8fb-c4959d51aeef",
        "colab": {
          "base_uri": "https://localhost:8080/",
          "height": 204
        }
      },
      "source": [
        "feature_cols = ['numberOfTurns', 'winType', 'player_0','player_1','unitLossTurn','unitLostPlayer','unitLostType']\n",
        "X = data[feature_cols]\n",
        "y = data['winner']\n",
        "\n",
        "# Standardising the data.\n",
        "from sklearn.preprocessing import scale\n",
        "\n",
        "X = pd.DataFrame(scale(X), columns=feature_cols, index=data.index)\n",
        "\n",
        "X.head()"
      ],
      "execution_count": 90,
      "outputs": [
        {
          "output_type": "execute_result",
          "data": {
            "text/html": [
              "<div>\n",
              "<style scoped>\n",
              "    .dataframe tbody tr th:only-of-type {\n",
              "        vertical-align: middle;\n",
              "    }\n",
              "\n",
              "    .dataframe tbody tr th {\n",
              "        vertical-align: top;\n",
              "    }\n",
              "\n",
              "    .dataframe thead th {\n",
              "        text-align: right;\n",
              "    }\n",
              "</style>\n",
              "<table border=\"1\" class=\"dataframe\">\n",
              "  <thead>\n",
              "    <tr style=\"text-align: right;\">\n",
              "      <th></th>\n",
              "      <th>numberOfTurns</th>\n",
              "      <th>winType</th>\n",
              "      <th>player_0</th>\n",
              "      <th>player_1</th>\n",
              "      <th>unitLossTurn</th>\n",
              "      <th>unitLostPlayer</th>\n",
              "      <th>unitLostType</th>\n",
              "    </tr>\n",
              "  </thead>\n",
              "  <tbody>\n",
              "    <tr>\n",
              "      <th>0</th>\n",
              "      <td>0.307538</td>\n",
              "      <td>-0.369346</td>\n",
              "      <td>-0.184649</td>\n",
              "      <td>-0.098819</td>\n",
              "      <td>0.049361</td>\n",
              "      <td>0.305675</td>\n",
              "      <td>-0.577484</td>\n",
              "    </tr>\n",
              "    <tr>\n",
              "      <th>1</th>\n",
              "      <td>-2.560822</td>\n",
              "      <td>2.707491</td>\n",
              "      <td>2.691774</td>\n",
              "      <td>-1.819252</td>\n",
              "      <td>-0.063744</td>\n",
              "      <td>0.305675</td>\n",
              "      <td>1.896010</td>\n",
              "    </tr>\n",
              "    <tr>\n",
              "      <th>2</th>\n",
              "      <td>0.307538</td>\n",
              "      <td>-0.369346</td>\n",
              "      <td>-0.146261</td>\n",
              "      <td>0.468890</td>\n",
              "      <td>0.275572</td>\n",
              "      <td>0.305675</td>\n",
              "      <td>-0.577484</td>\n",
              "    </tr>\n",
              "    <tr>\n",
              "      <th>3</th>\n",
              "      <td>0.307538</td>\n",
              "      <td>-0.369346</td>\n",
              "      <td>-0.064191</td>\n",
              "      <td>-0.734029</td>\n",
              "      <td>-1.421010</td>\n",
              "      <td>0.305675</td>\n",
              "      <td>-0.577484</td>\n",
              "    </tr>\n",
              "    <tr>\n",
              "      <th>4</th>\n",
              "      <td>0.307538</td>\n",
              "      <td>-0.369346</td>\n",
              "      <td>0.593693</td>\n",
              "      <td>-1.137310</td>\n",
              "      <td>0.049361</td>\n",
              "      <td>0.305675</td>\n",
              "      <td>-0.577484</td>\n",
              "    </tr>\n",
              "  </tbody>\n",
              "</table>\n",
              "</div>"
            ],
            "text/plain": [
              "   numberOfTurns   winType  ...  unitLostPlayer  unitLostType\n",
              "0       0.307538 -0.369346  ...        0.305675     -0.577484\n",
              "1      -2.560822  2.707491  ...        0.305675      1.896010\n",
              "2       0.307538 -0.369346  ...        0.305675     -0.577484\n",
              "3       0.307538 -0.369346  ...        0.305675     -0.577484\n",
              "4       0.307538 -0.369346  ...        0.305675     -0.577484\n",
              "\n",
              "[5 rows x 7 columns]"
            ]
          },
          "metadata": {
            "tags": []
          },
          "execution_count": 90
        }
      ]
    },
    {
      "cell_type": "code",
      "metadata": {
        "id": "ogxk6RWGdyQ0",
        "colab_type": "code",
        "colab": {}
      },
      "source": [
        "from sklearn.model_selection import train_test_split\n",
        "\n",
        "X_train, X_test, y_train, y_test = train_test_split(X, y, test_size = 0.2, random_state=4, stratify = y)"
      ],
      "execution_count": 0,
      "outputs": []
    },
    {
      "cell_type": "code",
      "metadata": {
        "id": "hw6CqdumLdfG",
        "colab_type": "code",
        "colab": {}
      },
      "source": [
        "#for measuring training time\n",
        "from time import time \n",
        "#for measuring accuracy. Considers both precision and recall to compute score\n",
        "from sklearn.metrics import f1_score\n",
        "\n",
        "def train_classifier(clf, X_train, y_train):\n",
        "    ''' Fits a classifier to the training data. '''\n",
        "    \n",
        "    # Start the clock, train the classifier, then stop the clock\n",
        "    start = time()\n",
        "    clf.fit(X_train, y_train)\n",
        "    end = time()\n",
        "    \n",
        "    # Print the results\n",
        "    print(\"Trained model in {:.4f} seconds\".format(end - start))\n",
        "    \n",
        "    \n",
        "def predict_labels(clf, features, target):\n",
        "    ''' Makes predictions using a fit classifier based on F1 score. '''\n",
        "    \n",
        "    # Start the clock, make predictions, then stop the clock\n",
        "    start = time()\n",
        "    y_pred = clf.predict(features)\n",
        "    \n",
        "    end = time()\n",
        "    # Print and return results\n",
        "    print(\"Made predictions in {:.4f} seconds.\".format(end - start))\n",
        "    \n",
        "    return f1_score(target, y_pred, pos_label=0), sum(target == y_pred) / float(len(y_pred))\n",
        "\n",
        "\n",
        "def train_predict(clf, X_train, y_train, X_test, y_test):\n",
        "    ''' Train and predict using a classifer based on F1 score. '''\n",
        "    \n",
        "    # Indicate the classifier and the training set size\n",
        "    print(\"Training a {} using a training set size of {}. . .\".format(clf.__class__.__name__, len(X_train)))\n",
        "    \n",
        "    # Train the classifier\n",
        "    train_classifier(clf, X_train, y_train)\n",
        "    \n",
        "    # Print the results of prediction for both training and testing\n",
        "    f1, acc = predict_labels(clf, X_train, y_train)\n",
        "    # print(f1, acc)\n",
        "    print(\"F1 score and accuracy score for training set: {:.4f} , {:.4f}.\".format(f1 , acc))\n",
        "    \n",
        "    f1, acc = predict_labels(clf, X_test, y_test)\n",
        "    print(\"F1 score and accuracy score for test set: {:.4f} , {:.4f}.\".format(f1 , acc))"
      ],
      "execution_count": 0,
      "outputs": []
    },
    {
      "cell_type": "code",
      "metadata": {
        "id": "eTf2qpgdMnMT",
        "colab_type": "code",
        "outputId": "7ab22103-2ff0-4c29-feb4-8c1ba67694d1",
        "colab": {
          "base_uri": "https://localhost:8080/",
          "height": 595
        }
      },
      "source": [
        "# Initialize the four models (XGBoost is initialized later)\n",
        "clf_A = LogisticRegression(random_state = 42)\n",
        "clf_B = KNeighborsClassifier(n_neighbors=10)\n",
        "clf_C = RandomForestClassifier(max_depth = 2, random_state=0)\n",
        "clf_D = SVC(random_state = 912, kernel='rbf')\n",
        "\n",
        "# Boosting refers to this general problem of producing a very accurate prediction rule \n",
        "# by combining rough and moderately inaccurate rules-of-thumb\n",
        "clf_E = xgb.XGBClassifier(seed = 2)\n",
        "\n",
        "train_predict(clf_A, X_train, y_train, X_test, y_test)\n",
        "print('')\n",
        "train_predict(clf_B, X_train, y_train, X_test, y_test)\n",
        "print('')\n",
        "train_predict(clf_C, X_train, y_train, X_test, y_test)\n",
        "print('')\n",
        "train_predict(clf_D, X_train, y_train, X_test, y_test)\n",
        "print('')\n",
        "train_predict(clf_E, X_train, y_train, X_test, y_test)"
      ],
      "execution_count": 93,
      "outputs": [
        {
          "output_type": "stream",
          "text": [
            "Training a LogisticRegression using a training set size of 786. . .\n",
            "Trained model in 0.0104 seconds\n",
            "Made predictions in 0.0006 seconds.\n",
            "F1 score and accuracy score for training set: 0.9893 , 0.9924.\n",
            "Made predictions in 0.0006 seconds.\n",
            "F1 score and accuracy score for test set: 0.9635 , 0.9746.\n",
            "\n",
            "Training a KNeighborsClassifier using a training set size of 786. . .\n",
            "Trained model in 0.0013 seconds\n",
            "Made predictions in 0.0254 seconds.\n",
            "F1 score and accuracy score for training set: 0.9701 , 0.9784.\n",
            "Made predictions in 0.0067 seconds.\n",
            "F1 score and accuracy score for test set: 0.9379 , 0.9543.\n",
            "\n",
            "Training a RandomForestClassifier using a training set size of 786. . .\n",
            "Trained model in 0.1210 seconds\n",
            "Made predictions in 0.0102 seconds.\n",
            "F1 score and accuracy score for training set: 0.8725 , 0.9186.\n",
            "Made predictions in 0.0079 seconds.\n",
            "F1 score and accuracy score for test set: 0.8640 , 0.9137.\n",
            "\n",
            "Training a SVC using a training set size of 786. . .\n",
            "Trained model in 0.0086 seconds\n",
            "Made predictions in 0.0042 seconds.\n",
            "F1 score and accuracy score for training set: 0.9821 , 0.9873.\n",
            "Made predictions in 0.0014 seconds.\n",
            "F1 score and accuracy score for test set: 0.9784 , 0.9848.\n",
            "\n",
            "Training a XGBClassifier using a training set size of 786. . .\n",
            "Trained model in 0.0358 seconds\n",
            "Made predictions in 0.0020 seconds.\n",
            "F1 score and accuracy score for training set: 1.0000 , 1.0000.\n",
            "Made predictions in 0.0011 seconds.\n",
            "F1 score and accuracy score for test set: 0.9790 , 0.9848.\n"
          ],
          "name": "stdout"
        }
      ]
    },
    {
      "cell_type": "markdown",
      "metadata": {
        "id": "JPhC0VbDc9Qe",
        "colab_type": "text"
      },
      "source": [
        "### **Grid Search Cross Validation**\n",
        "\n",
        "We perform Grid Search CV, which is the process of performing hyper parameter tuning in order to determine the optimal values for a given model"
      ]
    },
    {
      "cell_type": "code",
      "metadata": {
        "id": "fb6BpyktYuRD",
        "colab_type": "code",
        "colab": {}
      },
      "source": [
        "# Import 'GridSearchCV' and 'make_scorer'\n",
        "from sklearn.model_selection import GridSearchCV\n",
        "from sklearn.metrics import make_scorer\n",
        "\n",
        "def train_grid_search(clf, params, X_train, y_train, X_test, y_test, kfolds):\n",
        "    # Make an f1 scoring function using 'make_scorer'\n",
        "    f1_scorer = make_scorer(f1_score,pos_label=0)\n",
        "\n",
        "    # Perform grid search on the classifier using the f1_scorer as the scoring method\n",
        "    grid_search = GridSearchCV(\n",
        "                          clf, \n",
        "                          scoring = f1_scorer, \n",
        "                          param_grid=params,\n",
        "                          cv = kfolds\n",
        "                  )\n",
        "    # Fit the grid search object to the training data and find the optimal parameters\n",
        "    grid_search = grid_search.fit(X_train,y_train)\n",
        "\n",
        "    # Get the estimator\n",
        "    grid_search_best = grid_search.best_estimator_\n",
        "    #print(log_reg_best)\n",
        "\n",
        "    # Report the final F1 score for training and testing after parameter tuning\n",
        "    f1, acc = predict_labels(grid_search_best, X_train, y_train)\n",
        "    print(\"F1 score and accuracy score for training set: {:.4f} , {:.4f}.\".format(f1 , acc))\n",
        "        \n",
        "    f1, acc = predict_labels(grid_search_best, X_test, y_test)\n",
        "    print(\"F1 score and accuracy score for test set: {:.4f} , {:.4f}.\".format(f1 , acc))\n",
        "\n",
        "    return grid_search, grid_search_best\n",
        "\n",
        "def log_reg_gridsearch(X_train, y_train, X_test, y_test, nfolds):\n",
        "    paramsLogReg = {\n",
        "        'penalty' : ['l1', 'l2'],\n",
        "        'C': [0.001,0.009,0.01,0.09,1,5,10,25],\n",
        "        'solver' : ['liblinear'],\n",
        "        'max_iter' : [100, 1000,2500, 5000]\n",
        "    }\n",
        "\n",
        "    # Initialize the classifier\n",
        "    clf = LogisticRegression()\n",
        "\n",
        "    return train_grid_search(clf, paramsLogReg, X_train, y_train, X_test, y_test, nfolds)\n",
        "\n",
        "\n",
        "def knn_gridsearch(X_train, y_train, X_test, y_test, nfolds):\n",
        "    paramsKNN = { \n",
        "        'n_neighbors' : [3,5,11,19],\n",
        "        'weights' : ['uniform','distance'],\n",
        "        'metric' : ['euclidean', 'manhattan']\n",
        "    }\n",
        "\n",
        "    # Initialize the classifier\n",
        "    clf = KNeighborsClassifier()\n",
        "    return train_grid_search(clf, paramsKNN, X_train, y_train, X_test, y_test, nfolds)\n",
        "\n",
        "def random_forest_gridsearch(X_train, y_train, X_test, y_test, nfolds):\n",
        "    # Number of trees in random forest\n",
        "    # n_estimators = [int(x) for x in np.linspace(start = 200, stop = 2000, num = 10)]\n",
        "    n_estimators = [50, 150, 250]\n",
        "    # Number of features to consider at every split\n",
        "    max_features = ['auto', 'sqrt']\n",
        "    # Maximum number of levels in tree\n",
        "    max_depth = [int(x) for x in np.linspace(10, 110, num = 11)]\n",
        "    max_depth.append(None)\n",
        "    # Minimum number of samples required to split a node\n",
        "    min_samples_split = [2, 5, 10]\n",
        "    # Minimum number of samples required at each leaf node\n",
        "    min_samples_leaf = [1, 2, 4]\n",
        "    # Method of selecting samples for training each tree\n",
        "    bootstrap = [True, False]\n",
        "    \n",
        "    paramsRandForest = {\n",
        "      'n_estimators': [50, 150, 250],\n",
        "      'max_features': ['sqrt', 0.25, 0.5, 0.75, 1.0],\n",
        "      'min_samples_split': [2, 4, 6]\n",
        "    }\n",
        "\n",
        "    # Initialize the classifier\n",
        "    clf = RandomForestClassifier(random_state=1)\n",
        "\n",
        "    return train_grid_search(clf, paramsRandForest, X_train, y_train, X_test, y_test, nfolds)\n",
        "\n",
        "\n",
        "def svm_gridsearch(X_train, y_train, X_test, y_test, nfolds):\n",
        "    paramsSVM = {\n",
        "      'C': [0.1,1, 10, 100], \n",
        "      'gamma': [1,0.1,0.01,0.001],\n",
        "      'kernel': ['rbf', 'poly', 'sigmoid']\n",
        "    }\n",
        "\n",
        "    # Initialize the classifier\n",
        "    clf = SVC()\n",
        "\n",
        "    return train_grid_search(clf, paramsSVM, X_train, y_train, X_test, y_test, nfolds)\n",
        "\n",
        "\n",
        "def xg_boost_gridsearch(X_train, y_train, X_test, y_test, nfolds):\n",
        "    paramsXGB = {\n",
        "      'learning_rate' : [0.1, 0.01, 0.05],\n",
        "      'n_estimators' : range(60, 220, 40),\n",
        "      'max_depth': range (2, 10, 1),\n",
        "      'min_child_weight': [3],\n",
        "      'gamma':[0.4],\n",
        "      'subsample' : [0.8],\n",
        "      'colsample_bytree' : [0.8],\n",
        "      'scale_pos_weight' : [1],\n",
        "      'reg_alpha':[1e-5]\n",
        "    }\n",
        "    \"\"\"paramsXGB = {\n",
        "      'n_estimators': [50,100,150,250,300,400,500,1000],\n",
        "      'max_depth': [5,6,7,8,9,10],\n",
        "      'max_delta_step': [0,1,2,3,4,5,6,7,8,9,10],\n",
        "      'min_child_weight': [1,2,3,4,5],\n",
        "      'subsample': [0.5,0.6,0.7,0.8,0.9,1],\n",
        "      'colsample_bytree': [0.2,0.3,0.4,0.5,0.6,0.7,0.8],\n",
        "      'colsample_bylevel': [0.2,0.3,0.4,0.5,0.6,0.7,0.8],\n",
        "      'learning_rate': [0.002,0.005,0.007,0.008,0.01,0.05,0.07,0.1,0.25,0.5] \n",
        "    }\"\"\"\n",
        "\n",
        "    # Initialize the classifier\n",
        "    clf = xgb.XGBClassifier(seed=2)\n",
        "\n",
        "    return train_grid_search(clf, paramsXGB, X_train, y_train, X_test, y_test, nfolds)"
      ],
      "execution_count": 0,
      "outputs": []
    },
    {
      "cell_type": "code",
      "metadata": {
        "id": "upi4sZAU071y",
        "colab_type": "code",
        "colab": {}
      },
      "source": [
        "from sklearn.metrics import plot_confusion_matrix\n",
        "\n",
        "def display_confusion_matrix(clf, X_test, y_test):\n",
        "    np.set_printoptions(precision=2)\n",
        "\n",
        "    # Plot non-normalized confusion matrix\n",
        "    titles_options = [(\"Confusion matrix\", None)]\n",
        "\n",
        "    for title, normalize in titles_options:\n",
        "        disp = plot_confusion_matrix(clf, X_test, y_test,\n",
        "                                    cmap=plt.cm.Blues,\n",
        "                                    values_format = '.5g',\n",
        "                                    normalize=normalize)\n",
        "        disp.ax_.set_title(title)\n",
        "\n",
        "        #print(title)\n",
        "        #print(disp.confusion_matrix)\n",
        "\n",
        "    plt.show()"
      ],
      "execution_count": 0,
      "outputs": []
    },
    {
      "cell_type": "markdown",
      "metadata": {
        "id": "HHJSRfkVfUPk",
        "colab_type": "text"
      },
      "source": [
        "We perform Grid Search CV on the model that produced the highest accuracy to see if we can get optimized solution with tuned parameters"
      ]
    },
    {
      "cell_type": "code",
      "metadata": {
        "id": "H4-cgZX1l8QC",
        "colab_type": "code",
        "outputId": "6eaaac84-2cd4-4f84-d823-be5c78815255",
        "colab": {
          "base_uri": "https://localhost:8080/",
          "height": 85
        }
      },
      "source": [
        "kfolds = 10\n",
        "\n",
        "xg_boost, xgb_best = xg_boost_gridsearch(X_train, y_train, X_test, y_test, kfolds)"
      ],
      "execution_count": 106,
      "outputs": [
        {
          "output_type": "stream",
          "text": [
            "Made predictions in 0.0030 seconds.\n",
            "F1 score and accuracy score for training set: 1.0000 , 1.0000.\n",
            "Made predictions in 0.0014 seconds.\n",
            "F1 score and accuracy score for test set: 0.9718 , 0.9797.\n"
          ],
          "name": "stdout"
        }
      ]
    },
    {
      "cell_type": "code",
      "metadata": {
        "id": "QsPw0gnKDZX9",
        "colab_type": "code",
        "colab": {
          "base_uri": "https://localhost:8080/",
          "height": 295
        },
        "outputId": "a775f34f-a7ae-467c-f5b2-7a9cb3bd1d61"
      },
      "source": [
        "import numpy as np\n",
        "import matplotlib.pyplot as plt\n",
        "%matplotlib inline\n",
        "\n",
        "display_confusion_matrix(xg_boost, X_test, y_test)"
      ],
      "execution_count": 107,
      "outputs": [
        {
          "output_type": "display_data",
          "data": {
            "image/png": "[encoded data removed]",
            "text/plain": [
              "<Figure size 432x288 with 2 Axes>"
            ]
          },
          "metadata": {
            "tags": []
          }
        }
      ]
    },
    {
      "cell_type": "code",
      "metadata": {
        "id": "sRgHP5UW3fv9",
        "colab_type": "code",
        "outputId": "e457738d-d8d3-4739-96ea-378fe36b2e37",
        "colab": {
          "base_uri": "https://localhost:8080/",
          "height": 340
        }
      },
      "source": [
        "from sklearn.ensemble import VotingClassifier\n",
        "\n",
        "# create a dictionary of the models\n",
        "log_reg, log_reg_best = log_reg_gridsearch(X_train, y_train, X_test, y_test, kfolds)\n",
        "print('')\n",
        "knn, knn_best = knn_gridsearch(X_train, y_train, X_test, y_test, kfolds)\n",
        "print('')\n",
        "rf, rf_best = random_forest_gridsearch(X_train, y_train, X_test, y_test, kfolds)\n",
        "print('')\n",
        "svm, svm_best = svm_gridsearch(X_train, y_train, X_test, y_test, kfolds)\n",
        "\n",
        "estimators = [('log_reg', log_reg_best),('knn', knn_best), ('rf', rf_best), ('svm', svm_best)]\n",
        "\n",
        "# create our voting classifier, inputting our models\n",
        "ensemble = VotingClassifier(estimators, voting='hard')"
      ],
      "execution_count": 108,
      "outputs": [
        {
          "output_type": "stream",
          "text": [
            "Made predictions in 0.0005 seconds.\n",
            "F1 score and accuracy score for training set: 0.9965 , 0.9975.\n",
            "Made predictions in 0.0005 seconds.\n",
            "F1 score and accuracy score for test set: 1.0000 , 1.0000.\n",
            "\n",
            "Made predictions in 0.0115 seconds.\n",
            "F1 score and accuracy score for training set: 1.0000 , 1.0000.\n",
            "Made predictions in 0.0036 seconds.\n",
            "F1 score and accuracy score for test set: 0.9571 , 0.9695.\n",
            "\n",
            "Made predictions in 0.0250 seconds.\n",
            "F1 score and accuracy score for training set: 1.0000 , 1.0000.\n",
            "Made predictions in 0.0184 seconds.\n",
            "F1 score and accuracy score for test set: 0.9790 , 0.9848.\n",
            "\n",
            "Made predictions in 0.0024 seconds.\n",
            "F1 score and accuracy score for training set: 0.9876 , 0.9911.\n",
            "Made predictions in 0.0011 seconds.\n",
            "F1 score and accuracy score for test set: 0.9857 , 0.9898.\n"
          ],
          "name": "stdout"
        }
      ]
    },
    {
      "cell_type": "code",
      "metadata": {
        "id": "CYbt1vHh4TKs",
        "colab_type": "code",
        "outputId": "317ca45d-9e7a-4875-c5ff-88eb5d02dd14",
        "colab": {
          "base_uri": "https://localhost:8080/",
          "height": 34
        }
      },
      "source": [
        "#fit model to training data\n",
        "ensemble.fit(X_train, y_train)\n",
        "#test our model on the test data\n",
        "ensemble.score(X_test, y_test)"
      ],
      "execution_count": 22,
      "outputs": [
        {
          "output_type": "execute_result",
          "data": {
            "text/plain": [
              "0.9949238578680203"
            ]
          },
          "metadata": {
            "tags": []
          },
          "execution_count": 22
        }
      ]
    }
  ]
}